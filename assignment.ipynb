{
 "cells": [
  {
   "cell_type": "markdown",
   "id": "f0ae73f7-404e-4252-b96f-ccaf4d83e92f",
   "metadata": {},
   "source": [
    "# My Jupyter Notebook on IBM Watson Studio"
   ]
  },
  {
   "cell_type": "markdown",
   "id": "4044fd7d-c93f-41f8-a477-5296a6b90f83",
   "metadata": {},
   "source": [
    "|__surya deep sood__|\n",
    "|-|\n",
    "|student|    "
   ]
  },
  {
   "cell_type": "markdown",
   "id": "02b2b736-fbc5-4159-9d1f-2d9be3594dff",
   "metadata": {},
   "source": [
    "*i am passionate about data scince . it helps solve problems of daily life*"
   ]
  },
  {
   "cell_type": "markdown",
   "id": "00df2944-6de6-439c-900d-d4eda0be7c38",
   "metadata": {},
   "source": [
    "### code in the 5 cell will give multiplication of two numbers "
   ]
  },
  {
   "cell_type": "code",
   "execution_count": 3,
   "id": "14f13cdf-56ca-48b8-9cdd-0965e50b5236",
   "metadata": {},
   "outputs": [
    {
     "data": {
      "text/plain": [
       "5"
      ]
     },
     "execution_count": 3,
     "metadata": {},
     "output_type": "execute_result"
    }
   ],
   "source": [
    "1*5"
   ]
  },
  {
   "cell_type": "markdown",
   "id": "43b59c26-3bc8-432f-8ea1-28155faf2afa",
   "metadata": {},
   "source": [
    "-----\n",
    "- name\n",
    "- age\n",
    "- sex\n",
    "--------------\n",
    "- one\n",
    "- two\n",
    "- three\n",
    "- four\n",
    "- five\n",
    "- six\n",
    "--------------\n",
    "|name|age|sex|\n",
    "|----|---|---|\n",
    "|suryadeep|29|M|\n",
    "|akashdeep|25|m|\n",
    "--------------\n",
    "<a href=\"https://www.youtube.com/watch?v=0iw0lr6YII4\">tibetan mastiff</a> "
   ]
  }
 ],
 "metadata": {
  "kernelspec": {
   "display_name": "Python 3 (ipykernel)",
   "language": "python",
   "name": "python3"
  },
  "language_info": {
   "codemirror_mode": {
    "name": "ipython",
    "version": 3
   },
   "file_extension": ".py",
   "mimetype": "text/x-python",
   "name": "python",
   "nbconvert_exporter": "python",
   "pygments_lexer": "ipython3",
   "version": "3.10.9"
  }
 },
 "nbformat": 4,
 "nbformat_minor": 5
}
